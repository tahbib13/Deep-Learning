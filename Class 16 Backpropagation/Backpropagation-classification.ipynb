{
 "cells": [
  {
   "cell_type": "code",
   "execution_count": 1,
   "id": "20abf459",
   "metadata": {},
   "outputs": [],
   "source": [
    "import numpy as np\n",
    "import pandas as pd"
   ]
  },
  {
   "cell_type": "code",
   "execution_count": 2,
   "id": "e05340a8",
   "metadata": {},
   "outputs": [],
   "source": [
    "df = pd.DataFrame([[8,8,1],[7,9,1],[6,10,0],[5,5,0]], columns=['cgpa', 'profile_score', 'placed'])"
   ]
  },
  {
   "cell_type": "code",
   "execution_count": 3,
   "id": "bf59549e",
   "metadata": {},
   "outputs": [
    {
     "data": {
      "application/vnd.microsoft.datawrangler.viewer.v0+json": {
       "columns": [
        {
         "name": "index",
         "rawType": "int64",
         "type": "integer"
        },
        {
         "name": "cgpa",
         "rawType": "int64",
         "type": "integer"
        },
        {
         "name": "profile_score",
         "rawType": "int64",
         "type": "integer"
        },
        {
         "name": "placed",
         "rawType": "int64",
         "type": "integer"
        }
       ],
       "ref": "471a7229-d9c5-437f-b89c-15dcbd21fc08",
       "rows": [
        [
         "0",
         "8",
         "8",
         "1"
        ],
        [
         "1",
         "7",
         "9",
         "1"
        ],
        [
         "2",
         "6",
         "10",
         "0"
        ],
        [
         "3",
         "5",
         "5",
         "0"
        ]
       ],
       "shape": {
        "columns": 3,
        "rows": 4
       }
      },
      "text/html": [
       "<div>\n",
       "<style scoped>\n",
       "    .dataframe tbody tr th:only-of-type {\n",
       "        vertical-align: middle;\n",
       "    }\n",
       "\n",
       "    .dataframe tbody tr th {\n",
       "        vertical-align: top;\n",
       "    }\n",
       "\n",
       "    .dataframe thead th {\n",
       "        text-align: right;\n",
       "    }\n",
       "</style>\n",
       "<table border=\"1\" class=\"dataframe\">\n",
       "  <thead>\n",
       "    <tr style=\"text-align: right;\">\n",
       "      <th></th>\n",
       "      <th>cgpa</th>\n",
       "      <th>profile_score</th>\n",
       "      <th>placed</th>\n",
       "    </tr>\n",
       "  </thead>\n",
       "  <tbody>\n",
       "    <tr>\n",
       "      <th>0</th>\n",
       "      <td>8</td>\n",
       "      <td>8</td>\n",
       "      <td>1</td>\n",
       "    </tr>\n",
       "    <tr>\n",
       "      <th>1</th>\n",
       "      <td>7</td>\n",
       "      <td>9</td>\n",
       "      <td>1</td>\n",
       "    </tr>\n",
       "    <tr>\n",
       "      <th>2</th>\n",
       "      <td>6</td>\n",
       "      <td>10</td>\n",
       "      <td>0</td>\n",
       "    </tr>\n",
       "    <tr>\n",
       "      <th>3</th>\n",
       "      <td>5</td>\n",
       "      <td>5</td>\n",
       "      <td>0</td>\n",
       "    </tr>\n",
       "  </tbody>\n",
       "</table>\n",
       "</div>"
      ],
      "text/plain": [
       "   cgpa  profile_score  placed\n",
       "0     8              8       1\n",
       "1     7              9       1\n",
       "2     6             10       0\n",
       "3     5              5       0"
      ]
     },
     "execution_count": 3,
     "metadata": {},
     "output_type": "execute_result"
    }
   ],
   "source": [
    "df"
   ]
  },
  {
   "cell_type": "code",
   "execution_count": 4,
   "id": "5331a1dd",
   "metadata": {},
   "outputs": [
    {
     "data": {
      "text/plain": [
       "(4, 3)"
      ]
     },
     "execution_count": 4,
     "metadata": {},
     "output_type": "execute_result"
    }
   ],
   "source": [
    "df.shape"
   ]
  },
  {
   "cell_type": "code",
   "execution_count": 5,
   "id": "f3daab48",
   "metadata": {},
   "outputs": [],
   "source": [
    "def initialize_parameters(layer_dims):\n",
    "  \n",
    "  np.random.seed(3)\n",
    "  parameters = {}\n",
    "  L = len(layer_dims)         \n",
    "\n",
    "  for l in range(1, L):\n",
    "\n",
    "    parameters['W' + str(l)] = np.ones((layer_dims[l-1], layer_dims[l]))*0.1\n",
    "    parameters['b' + str(l)] = np.zeros((layer_dims[l], 1))\n",
    "      \n",
    "\n",
    "  return parameters"
   ]
  },
  {
   "cell_type": "code",
   "execution_count": 6,
   "id": "15daac62",
   "metadata": {},
   "outputs": [],
   "source": [
    "# Utility Functions\n",
    "def sigmoid(Z):\n",
    "  \n",
    "  A = 1/(1+np.exp(-Z))\n",
    "\n",
    "  return A"
   ]
  },
  {
   "cell_type": "code",
   "execution_count": 7,
   "id": "e225924b",
   "metadata": {},
   "outputs": [],
   "source": [
    "def linear_forward(A_prev, W, b):\n",
    "  \n",
    "  Z = np.dot(W.T, A_prev) + b\n",
    "\n",
    "  A = sigmoid(Z)\n",
    "  \n",
    "  return A"
   ]
  },
  {
   "cell_type": "code",
   "execution_count": 11,
   "id": "7fea5907",
   "metadata": {},
   "outputs": [],
   "source": [
    "# L-layer feed forward\n",
    "\n",
    "def L_layer_forward(X, parameters):\n",
    "\n",
    "  A = X\n",
    "  L = len(parameters) // 2                  # number of layers in the neural network\n",
    "  \n",
    "  for l in range(1, L+1):\n",
    "    A_prev = A \n",
    "    Wl = parameters['W' + str(l)]\n",
    "    bl = parameters['b' + str(l)]\n",
    "    #print(\"A\"+str(l-1)+\": \", A_prev)\n",
    "    #print(\"W\"+str(l)+\": \", Wl)\n",
    "    #print(\"b\"+str(l)+\": \", bl)\n",
    "    #print(\"--\"*20)\n",
    "\n",
    "    A = linear_forward(A_prev, Wl, bl)\n",
    "    #print(\"A\"+str(l)+\": \", A)\n",
    "    #print(\"**\"*20)\n",
    "          \n",
    "  return A,A_prev\n"
   ]
  },
  {
   "cell_type": "code",
   "execution_count": 12,
   "id": "8ed8e4de",
   "metadata": {},
   "outputs": [],
   "source": [
    "def update_parameters(parameters,y,y_hat,A1,X):\n",
    "  parameters['W2'][0][0] = parameters['W2'][0][0] + (0.0001 * (y - y_hat)*A1[0][0])\n",
    "  parameters['W2'][1][0] = parameters['W2'][1][0] + (0.0001 * (y - y_hat)*A1[1][0])\n",
    "  parameters['b2'][0][0] = parameters['W2'][1][0] + (0.0001 * (y - y_hat))\n",
    "\n",
    "  parameters['W1'][0][0] = parameters['W1'][0][0] + (0.0001 * (y - y_hat)*parameters['W2'][0][0]*A1[0][0]*(1-A1[0][0])*X[0][0])\n",
    "  parameters['W1'][0][1] = parameters['W1'][0][1] + (0.0001 * (y - y_hat)*parameters['W2'][0][0]*A1[0][0]*(1-A1[0][0])*X[1][0])\n",
    "  parameters['b1'][0][0] = parameters['b1'][0][0] + (0.0001 * (y - y_hat)*parameters['W2'][0][0]*A1[0][0]*(1-A1[0][0]))\n",
    "\n",
    "  parameters['W1'][1][0] = parameters['W1'][1][0] + (0.0001 * (y - y_hat)*parameters['W2'][1][0]*A1[1][0]*(1-A1[1][0])*X[0][0])\n",
    "  parameters['W1'][1][1] = parameters['W1'][1][1] + (0.0001 * (y - y_hat)*parameters['W2'][1][0]*A1[1][0]*(1-A1[1][0])*X[1][0])\n",
    "  parameters['b1'][1][0] = parameters['b1'][1][0] + (0.0001 * (y - y_hat)*parameters['W2'][1][0]*A1[1][0]*(1-A1[1][0]))"
   ]
  },
  {
   "cell_type": "code",
   "execution_count": null,
   "id": "56ca3bee",
   "metadata": {},
   "outputs": [
    {
     "name": "stdout",
     "output_type": "stream",
     "text": [
      "Epoch -  1 Loss -  0.7103199085929446\n",
      "Epoch -  2 Loss -  0.6991702892802629\n",
      "Epoch -  3 Loss -  0.6991679314811485\n",
      "Epoch -  4 Loss -  0.6991655746710999\n",
      "Epoch -  5 Loss -  0.6991632188496667\n",
      "Epoch -  6 Loss -  0.699160864016399\n",
      "Epoch -  7 Loss -  0.6991585101708473\n",
      "Epoch -  8 Loss -  0.6991561573125619\n",
      "Epoch -  9 Loss -  0.6991538054410936\n",
      "Epoch -  10 Loss -  0.6991514545559935\n",
      "Epoch -  11 Loss -  0.6991491046568126\n",
      "Epoch -  12 Loss -  0.6991467557431024\n",
      "Epoch -  13 Loss -  0.6991444078144144\n",
      "Epoch -  14 Loss -  0.6991420608703007\n",
      "Epoch -  15 Loss -  0.6991397149103132\n",
      "Epoch -  16 Loss -  0.6991373699340042\n",
      "Epoch -  17 Loss -  0.6991350259409265\n",
      "Epoch -  18 Loss -  0.6991326829306324\n",
      "Epoch -  19 Loss -  0.6991303409026751\n",
      "Epoch -  20 Loss -  0.699127999856608\n",
      "Epoch -  21 Loss -  0.6991256597919842\n",
      "Epoch -  22 Loss -  0.6991233207083575\n",
      "Epoch -  23 Loss -  0.6991209826052818\n",
      "Epoch -  24 Loss -  0.699118645482311\n",
      "Epoch -  25 Loss -  0.6991163093389996\n",
      "Epoch -  26 Loss -  0.699113974174902\n",
      "Epoch -  27 Loss -  0.6991116399895729\n",
      "Epoch -  28 Loss -  0.6991093067825676\n",
      "Epoch -  29 Loss -  0.699106974553441\n",
      "Epoch -  30 Loss -  0.6991046433017485\n",
      "Epoch -  31 Loss -  0.6991023130270458\n",
      "Epoch -  32 Loss -  0.699099983728889\n",
      "Epoch -  33 Loss -  0.6990976554068338\n",
      "Epoch -  34 Loss -  0.6990953280604367\n",
      "Epoch -  35 Loss -  0.6990930016892543\n",
      "Epoch -  36 Loss -  0.6990906762928432\n",
      "Epoch -  37 Loss -  0.6990883518707602\n",
      "Epoch -  38 Loss -  0.6990860284225631\n",
      "Epoch -  39 Loss -  0.6990837059478086\n",
      "Epoch -  40 Loss -  0.6990813844460546\n",
      "Epoch -  41 Loss -  0.699079063916859\n",
      "Epoch -  42 Loss -  0.6990767443597797\n",
      "Epoch -  43 Loss -  0.6990744257743753\n",
      "Epoch -  44 Loss -  0.699072108160204\n",
      "Epoch -  45 Loss -  0.6990697915168249\n",
      "Epoch -  46 Loss -  0.6990674758437966\n",
      "Epoch -  47 Loss -  0.6990651611406782\n",
      "Epoch -  48 Loss -  0.6990628474070294\n",
      "Epoch -  49 Loss -  0.6990605346424095\n",
      "Epoch -  50 Loss -  0.6990582228463785\n"
     ]
    },
    {
     "data": {
      "text/plain": [
       "{'W1': array([[0.09994267, 0.09984548],\n",
       "        [0.09994272, 0.09984548]]),\n",
       " 'b1': array([[-3.38405750e-05],\n",
       "        [-3.38419977e-05]]),\n",
       " 'W2': array([[0.09920806],\n",
       "        [0.09920816]]),\n",
       " 'b2': array([[0.09915209]])}"
      ]
     },
     "execution_count": 13,
     "metadata": {},
     "output_type": "execute_result"
    }
   ],
   "source": [
    "# epochs implementation\n",
    "\n",
    "parameters = initialize_parameters([2,2,1])\n",
    "epochs = 50\n",
    "\n",
    "for i in range(epochs):\n",
    "\n",
    "  Loss = []\n",
    "\n",
    "  for j in range(df.shape[0]):\n",
    "\n",
    "    X = df[['cgpa', 'profile_score']].values[j].reshape(2,1) # Shape(no of features, no. of training example)\n",
    "    y = df[['placed']].values[j][0]\n",
    "\n",
    "    # Parameter initialization\n",
    "\n",
    "\n",
    "    y_hat,A1 = L_layer_forward(X,parameters)\n",
    "    y_hat = y_hat[0][0]\n",
    "\n",
    "    update_parameters(parameters,y,y_hat,A1,X) #update\n",
    "\n",
    "    Loss.append(-y*np.log(y_hat) - (1-y)*np.log(1-y_hat)) #loss function\n",
    "\n",
    "  print('Epoch - ',i+1,'Loss - ',np.array(Loss).mean())\n",
    "\n",
    "parameters"
   ]
  }
 ],
 "metadata": {
  "kernelspec": {
   "display_name": "Python 3",
   "language": "python",
   "name": "python3"
  },
  "language_info": {
   "codemirror_mode": {
    "name": "ipython",
    "version": 3
   },
   "file_extension": ".py",
   "mimetype": "text/x-python",
   "name": "python",
   "nbconvert_exporter": "python",
   "pygments_lexer": "ipython3",
   "version": "3.12.2"
  }
 },
 "nbformat": 4,
 "nbformat_minor": 5
}
